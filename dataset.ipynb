{
 "cells": [
  {
   "cell_type": "code",
   "execution_count": 10,
   "metadata": {},
   "outputs": [],
   "source": [
    "p = 97\n",
    "x_data = list(range(p))\n",
    "y_data = list(range(1, p))"
   ]
  },
  {
   "cell_type": "code",
   "execution_count": 24,
   "metadata": {},
   "outputs": [
    {
     "data": {
      "text/plain": [
       "45"
      ]
     },
     "execution_count": 24,
     "metadata": {},
     "output_type": "execute_result"
    }
   ],
   "source": [
    "45 % 97"
   ]
  },
  {
   "cell_type": "code",
   "execution_count": 41,
   "metadata": {},
   "outputs": [],
   "source": [
    "def get_label(x_data, y_data, x_idx, y_idx, p, operation):\n",
    "    x, y = x_data[x_idx], y_data[y_idx]\n",
    "    return operation(x, y, p) \n",
    "\n",
    "def div_mod(x, y, p):\n",
    "    res = (x/y) % p\n",
    "    return res\n"
   ]
  },
  {
   "cell_type": "code",
   "execution_count": 42,
   "metadata": {},
   "outputs": [],
   "source": [
    "def test_div_mod():\n",
    "    expected_results = [\n",
    "        (0, 5, 0),\n",
    "        (5, 5, 1),\n",
    "        (90, 3, 30),\n",
    "        (90, 2, 45)\n",
    "    ]\n",
    "    for x, y, result in expected_results:\n",
    "        assert div_mod(x, y, 97) == result\n",
    "\n",
    "test_div_mod()"
   ]
  },
  {
   "cell_type": "code",
   "execution_count": 91,
   "metadata": {},
   "outputs": [],
   "source": [
    "def create_data(x_data, y_data, p, operation):\n",
    "    \"\"\"\n",
    "    Returns: \n",
    "        `data` flattened 1D array of size len(x_data) * len(y_data)\n",
    "    \"\"\"\n",
    "    data = {\"operand\": [], \"label\": []}\n",
    "    for i in range(len(x_data)):\n",
    "        for j in range(len(y_data)):\n",
    "            data[\"operand\"].append((x_data[i], y_data[j]))\n",
    "            data[\"label\"].append(get_label(x_data, y_data, i, j, p, operation))\n",
    "    return data\n",
    "\n",
    "data = create_data(x_data, y_data, p, div_mod)"
   ]
  },
  {
   "cell_type": "code",
   "execution_count": 92,
   "metadata": {},
   "outputs": [],
   "source": [
    "def test_create_data():\n",
    "    data = create_data(x_data, y_data, p, div_mod)\n",
    "    assert len(data[\"operand\"]) == len(data[\"label\"]) == len(x_data) * len(y_data)\n",
    "\n",
    "    expected_results = [(-1, (96,96), 1),\n",
    "                        (0, (0, 1), 0),\n",
    "                        (96, (1, 1), 1),\n",
    "                        (192, (2, 1), 2)]\n",
    "\n",
    "    for position, operand, label in expected_results:\n",
    "        assert data[\"operand\"][position] == operand\n",
    "        assert data[\"label\"][position] == label\n",
    "\n",
    "test_create_data()"
   ]
  }
 ],
 "metadata": {
  "interpreter": {
   "hash": "b96e21a1a28ae845397e265e53c99c6ed2dac2e83946e8029f08b8c865da58d0"
  },
  "kernelspec": {
   "display_name": "Python 3.9.7 64-bit ('grokking': conda)",
   "language": "python",
   "name": "python3"
  },
  "language_info": {
   "codemirror_mode": {
    "name": "ipython",
    "version": 3
   },
   "file_extension": ".py",
   "mimetype": "text/x-python",
   "name": "python",
   "nbconvert_exporter": "python",
   "pygments_lexer": "ipython3",
   "version": "3.9.7"
  },
  "orig_nbformat": 4
 },
 "nbformat": 4,
 "nbformat_minor": 2
}
